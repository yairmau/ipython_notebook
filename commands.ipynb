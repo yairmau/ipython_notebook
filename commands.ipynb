{
 "metadata": {
  "name": ""
 },
 "nbformat": 3,
 "nbformat_minor": 0,
 "worksheets": [
  {
   "cells": [
    {
     "cell_type": "code",
     "collapsed": false,
     "input": [
      "import numpy as np"
     ],
     "language": "python",
     "metadata": {},
     "outputs": [],
     "prompt_number": 14
    },
    {
     "cell_type": "heading",
     "level": 2,
     "metadata": {},
     "source": [
      "for loop"
     ]
    },
    {
     "cell_type": "code",
     "collapsed": false,
     "input": [
      "a = \"keyboard\"\n",
      "for i,l in enumerate(a):\n",
      "    print(\"index = {:d}, letter = {:s}\".format(i,l))"
     ],
     "language": "python",
     "metadata": {},
     "outputs": [
      {
       "output_type": "stream",
       "stream": "stdout",
       "text": [
        "index = 0, letter = k\n",
        "index = 1, letter = e\n",
        "index = 2, letter = y\n",
        "index = 3, letter = b\n",
        "index = 4, letter = o\n",
        "index = 5, letter = a\n",
        "index = 6, letter = r\n",
        "index = 7, letter = d\n"
       ]
      }
     ],
     "prompt_number": 2
    },
    {
     "cell_type": "heading",
     "level": 2,
     "metadata": {},
     "source": [
      "maps"
     ]
    },
    {
     "cell_type": "code",
     "collapsed": false,
     "input": [
      "cube = lambda x: x**3\n",
      "map(cube,[0,1,2,3,4,5])"
     ],
     "language": "python",
     "metadata": {},
     "outputs": [
      {
       "metadata": {},
       "output_type": "pyout",
       "prompt_number": 3,
       "text": [
        "[0, 1, 8, 27, 64, 125]"
       ]
      }
     ],
     "prompt_number": 3
    },
    {
     "cell_type": "code",
     "collapsed": false,
     "input": [
      "# now in 1 line\n",
      "map(lambda x: x**3,np.arange(6))"
     ],
     "language": "python",
     "metadata": {},
     "outputs": [
      {
       "metadata": {},
       "output_type": "pyout",
       "prompt_number": 4,
       "text": [
        "[0, 1, 8, 27, 64, 125]"
       ]
      }
     ],
     "prompt_number": 4
    },
    {
     "cell_type": "code",
     "collapsed": false,
     "input": [
      "# map can receive several iterables\n",
      "vect = np.arange(1,5)\n",
      "unit = 1*vect\n",
      "tens = 10*vect\n",
      "hund = 100*vect\n",
      "map(lambda x,y,z : x+y+z, unit,tens,hund)"
     ],
     "language": "python",
     "metadata": {},
     "outputs": [
      {
       "metadata": {},
       "output_type": "pyout",
       "prompt_number": 5,
       "text": [
        "[111, 222, 333, 444]"
       ]
      }
     ],
     "prompt_number": 5
    },
    {
     "cell_type": "code",
     "collapsed": false,
     "input": [
      "map(pow,[2, 2, 2], [2, 4, 9])"
     ],
     "language": "python",
     "metadata": {},
     "outputs": [
      {
       "metadata": {},
       "output_type": "pyout",
       "prompt_number": 6,
       "text": [
        "[4, 16, 512]"
       ]
      }
     ],
     "prompt_number": 6
    },
    {
     "cell_type": "heading",
     "level": 2,
     "metadata": {},
     "source": [
      "list comprehension"
     ]
    },
    {
     "cell_type": "code",
     "collapsed": false,
     "input": [
      "[x**2 for x in [0,1,2,3,4,5]]"
     ],
     "language": "python",
     "metadata": {},
     "outputs": [
      {
       "metadata": {},
       "output_type": "pyout",
       "prompt_number": 7,
       "text": [
        "[0, 1, 4, 9, 16, 25]"
       ]
      }
     ],
     "prompt_number": 7
    },
    {
     "cell_type": "code",
     "collapsed": false,
     "input": [
      "print [x**2 for x in np.arange(10) if x**2%2==0]\n",
      "print [x**2 for x in np.arange(10) if x**2%2==1]"
     ],
     "language": "python",
     "metadata": {},
     "outputs": [
      {
       "output_type": "stream",
       "stream": "stdout",
       "text": [
        "[0, 4, 16, 36, 64]\n",
        "[1, 9, 25, 49, 81]\n"
       ]
      }
     ],
     "prompt_number": 8
    },
    {
     "cell_type": "code",
     "collapsed": false,
     "input": [
      "print [x+y for x in np.arange(6) for y in 10*np.arange(5)]"
     ],
     "language": "python",
     "metadata": {},
     "outputs": [
      {
       "output_type": "stream",
       "stream": "stdout",
       "text": [
        "[0, 10, 20, 30, 40, 1, 11, 21, 31, 41, 2, 12, 22, 32, 42, 3, 13, 23, 33, 43, 4, 14, 24, 34, 44, 5, 15, 25, 35, 45]\n"
       ]
      }
     ],
     "prompt_number": 9
    },
    {
     "cell_type": "heading",
     "level": 2,
     "metadata": {},
     "source": [
      "structured arrays from 2d arrays"
     ]
    },
    {
     "cell_type": "code",
     "collapsed": false,
     "input": [
      "# create a 2d array\n",
      "t = np.linspace(0,1,11)\n",
      "x = 2*t\n",
      "y = t**2\n",
      "z = -t + 0.5\n",
      "a = np.vstack([t,x,y,z]).T\n",
      "print a"
     ],
     "language": "python",
     "metadata": {},
     "outputs": [
      {
       "output_type": "stream",
       "stream": "stdout",
       "text": [
        "[[ 0.    0.    0.    0.5 ]\n",
        " [ 0.1   0.2   0.01  0.4 ]\n",
        " [ 0.2   0.4   0.04  0.3 ]\n",
        " [ 0.3   0.6   0.09  0.2 ]\n",
        " [ 0.4   0.8   0.16  0.1 ]\n",
        " [ 0.5   1.    0.25  0.  ]\n",
        " [ 0.6   1.2   0.36 -0.1 ]\n",
        " [ 0.7   1.4   0.49 -0.2 ]\n",
        " [ 0.8   1.6   0.64 -0.3 ]\n",
        " [ 0.9   1.8   0.81 -0.4 ]\n",
        " [ 1.    2.    1.   -0.5 ]]\n"
       ]
      }
     ],
     "prompt_number": 10
    },
    {
     "cell_type": "code",
     "collapsed": false,
     "input": [
      "b=[]                            # empty list\n",
      "[b.append(tuple(line)) for line in a] # each line of \"a\" will be converted into a tuple\n",
      "# define a dtype, see options for type specifiers here: http://docs.scipy.org/doc/numpy/user/basics.rec.html\n",
      "deetype = np.dtype([('t', 'float64'), ('x', 'float64'), ('y', 'float64'), ('z', 'float64')])\n",
      "b = np.array(b,dtype=deetype)   # apply dtype, thus making \"b\" a numpy-structured-array"
     ],
     "language": "python",
     "metadata": {},
     "outputs": [],
     "prompt_number": 11
    },
    {
     "cell_type": "code",
     "collapsed": false,
     "input": [
      "# see how easy is to use the data\n",
      "import matplotlib.pyplot as plt\n",
      "%matplotlib inline\n",
      "plt.plot(b['t'],b['x'],\n",
      "         b['t'],b['y'],\n",
      "         b['t'],b['z'])\n",
      "plt.xlabel('t')\n",
      "plt.legend(b.dtype.names[1:],loc='upper left') # easy to use the column names as legend"
     ],
     "language": "python",
     "metadata": {},
     "outputs": [
      {
       "metadata": {},
       "output_type": "pyout",
       "prompt_number": 12,
       "text": [
        "<matplotlib.legend.Legend at 0x7f85d5bb4f10>"
       ]
      },
      {
       "metadata": {},
       "output_type": "display_data",
       "png": "[encoded data removed]",
       "text": [
        "<matplotlib.figure.Figure at 0x7f85d8843690>"
       ]
      }
     ],
     "prompt_number": 12
    },
    {
     "cell_type": "code",
     "collapsed": false,
     "input": [
      "# you can't make many operations of a structured array, such as multiplying columns\n",
      "# in case you need to do so, create and \"unstructured array\" like this\n",
      "c = []\n",
      "[c.append(list(line)) for line in b]\n",
      "c = np.array(c)"
     ],
     "language": "python",
     "metadata": {},
     "outputs": [],
     "prompt_number": 13
    },
    {
     "cell_type": "code",
     "collapsed": false,
     "input": [
      "# If possible, make this process simpler by starting from a structured array\n",
      "# and just add new lines to it (each new line with the appropriate dtype, of course)\n",
      "d = np.array([],dtype=deetype) # empty structured array\n",
      "for i in np.arange(len(t)):\n",
      "    new_line = np.array([(t[i],x[i],y[i],z[i])]\n",
      "                        ,dtype=deetype) # if new line is not structured, you can't combine arrays\n",
      "    d = np.concatenate((d,new_line))    # new lines added at every iteration\n",
      "for n in d.dtype.names:\n",
      "    print n,d[n]"
     ],
     "language": "python",
     "metadata": {},
     "outputs": [
      {
       "output_type": "stream",
       "stream": "stdout",
       "text": [
        "t [ 0.   0.1  0.2  0.3  0.4  0.5  0.6  0.7  0.8  0.9  1. ]\n",
        "x [ 0.   0.2  0.4  0.6  0.8  1.   1.2  1.4  1.6  1.8  2. ]\n",
        "y [ 0.    0.01  0.04  0.09  0.16  0.25  0.36  0.49  0.64  0.81  1.  ]\n",
        "z [ 0.5  0.4  0.3  0.2  0.1  0.  -0.1 -0.2 -0.3 -0.4 -0.5]\n"
       ]
      }
     ],
     "prompt_number": 14
    },
    {
     "cell_type": "heading",
     "level": 2,
     "metadata": {},
     "source": [
      "asterisks are your friends"
     ]
    },
    {
     "cell_type": "code",
     "collapsed": false,
     "input": [
      "# unpacking arguments\n",
      "def foo(a,b,c):\n",
      "    print(\"a={:d}, b={:d}, c={:d}\".format(a,b,c))\n",
      "foo(3,5,0)\n",
      "v = [2,1,7]\n",
      "foo(*v)\n",
      "# foo(v) will give an error:\n",
      "# foo() takes exactly 3 arguments (1 given)\n",
      "\n",
      "# of course we can now write\n",
      "w = [9,2,6]\n",
      "print(\"a={:d}, b={:d}, c={:d}\".format(*w))"
     ],
     "language": "python",
     "metadata": {},
     "outputs": [
      {
       "output_type": "stream",
       "stream": "stdout",
       "text": [
        "a=3, b=5, c=0\n",
        "a=2, b=1, c=7\n",
        "a=9, b=2, c=6\n"
       ]
      }
     ],
     "prompt_number": 8
    },
    {
     "cell_type": "code",
     "collapsed": false,
     "input": [
      "# when the asterisk comes in the argument of the\n",
      "# function being defined, it creates a tuple\n",
      "def bar(*args):\n",
      "    print(args)\n",
      "    for i in args: # the tuple is iterable\n",
      "        print(\"sqrt({:d})={:.0f}\".format(i,np.sqrt(i)) )\n",
      "bar(1,4,9)"
     ],
     "language": "python",
     "metadata": {},
     "outputs": [
      {
       "output_type": "stream",
       "stream": "stdout",
       "text": [
        "(1, 4, 9)\n",
        "sqrt(1)=1\n",
        "sqrt(4)=2\n",
        "sqrt(9)=3\n"
       ]
      }
     ],
     "prompt_number": 20
    },
    {
     "cell_type": "code",
     "collapsed": false,
     "input": [
      "# two asterisks create a dictionary\n",
      "# kwargs stands for \"keyword arguments\"\n",
      "def poo(**kwargs):\n",
      "    print kwargs\n",
      "poo(house=5, car='blue', tau=2*np.pi)\n",
      "\n",
      "def shopping_list(**kwargs):\n",
      "    for item in kwargs:     # a dictionary is also iterable\n",
      "        print kwargs[item],item\n",
      "shopping_list(shampoos=3, tomatoes=10, shirts=5)"
     ],
     "language": "python",
     "metadata": {},
     "outputs": [
      {
       "output_type": "stream",
       "stream": "stdout",
       "text": [
        "{'tau': 6.283185307179586, 'house': 5, 'car': 'blue'}\n",
        "3 shampoos\n",
        "5 shirts\n",
        "10 tomatoes\n"
       ]
      }
     ],
     "prompt_number": 36
    },
    {
     "cell_type": "code",
     "collapsed": false,
     "input": [
      "# two asterisks can unpack a dict\n",
      "def read_variables(**kwargs):\n",
      "    for a in kwargs:\n",
      "        print(\"{:7s} = {:f}\".format(a,kwargs[a]))\n",
      "var = {'epsilon':2.1, 'gamma':-1, 'alpha':100}\n",
      "read_variables(**var)"
     ],
     "language": "python",
     "metadata": {},
     "outputs": [
      {
       "output_type": "stream",
       "stream": "stdout",
       "text": [
        "epsilon = 2.100000\n",
        "gamma   = -1.000000\n",
        "alpha   = 100.000000\n"
       ]
      }
     ],
     "prompt_number": 51
    },
    {
     "cell_type": "code",
     "collapsed": false,
     "input": [
      "# read this if you want to know more:\n",
      "# "
     ],
     "language": "python",
     "metadata": {},
     "outputs": [
      {
       "ename": "SyntaxError",
       "evalue": "invalid syntax (<ipython-input-52-bdf9d844b1f4>, line 1)",
       "output_type": "pyerr",
       "traceback": [
        "\u001b[0;36m  File \u001b[0;32m\"<ipython-input-52-bdf9d844b1f4>\"\u001b[0;36m, line \u001b[0;32m1\u001b[0m\n\u001b[0;31m    first, *rest = [1,2,3,4]\u001b[0m\n\u001b[0m           ^\u001b[0m\n\u001b[0;31mSyntaxError\u001b[0m\u001b[0;31m:\u001b[0m invalid syntax\n"
       ]
      }
     ],
     "prompt_number": 52
    },
    {
     "cell_type": "code",
     "collapsed": false,
     "input": [],
     "language": "python",
     "metadata": {},
     "outputs": []
    }
   ],
   "metadata": {}
  }
 ]
}