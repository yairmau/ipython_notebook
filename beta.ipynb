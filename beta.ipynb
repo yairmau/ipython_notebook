{
 "metadata": {
  "name": ""
 },
 "nbformat": 3,
 "nbformat_minor": 0,
 "worksheets": [
  {
   "cells": [
    {
     "cell_type": "code",
     "collapsed": false,
     "input": [
      "#import stuff\n",
      "import numpy\n",
      "import matplotlib.pyplot as plt\n",
      "import scipy.special\n",
      "from mpl_toolkits.axes_grid1.inset_locator import inset_axes\n",
      "import matplotlib.gridspec as gridspec\n",
      "%matplotlib inline"
     ],
     "language": "python",
     "metadata": {},
     "outputs": [],
     "prompt_number": 1
    },
    {
     "cell_type": "code",
     "collapsed": false,
     "input": [
      "# configure plotting preferences\n",
      "\n",
      "# http://wiki.scipy.org/Cookbook/Matplotlib/LaTeX_Examples\n",
      "pts_per_inch=72.27       # this is a latex constant, don't change it.\n",
      "text_width_in_pts=246.0  # write \"\\the\\textwidth\" (or \"\\showthe\\columnwidth\" for a 2 collumn text)\n",
      "                         # inside a figure environment in latex, the result will be on the dvi/pdf next to the figure. See url above.\n",
      "text_width_in_inches=text_width_in_pts/pts_per_inch\n",
      "golden_ratio=0.618       # make rectangles with a nice proportion\n",
      "inverse_latex_scale=2    # figure.png or figure.eps will be intentionally larger, because it is prettier\n",
      "                         # when compiling latex code, use \\includegraphics[scale=(1/inverse_latex_scale)]{figure}\n",
      "fig_proportion = (1.0) # we want the figure to occupy 2/3 (for example) of the text width\n",
      "csize=inverse_latex_scale*fig_proportion*text_width_in_inches\n",
      "fig_ratio = 1.2\n",
      "fig_size=(1.0*csize,fig_ratio*csize)  # always 1.0 on the first argument\n",
      "fig=plt.figure(1,figsize=fig_size)     # figsize accepts only inches. if you rather think in cm, change the code yourself.\n",
      "fig.clf()\n",
      "\n",
      "class Positions:\n",
      "    pass\n",
      "pos = Positions()\n",
      "pos.top    = 0.97\n",
      "pos.bottom = 0.50\n",
      "pos.left   = 0.13\n",
      "pos.right  = 0.98\n",
      "pos.hspace = 0.00\n",
      "pos.wspace = 0.02\n",
      "fig.subplots_adjust(top=pos.top,bottom=pos.bottom,left=pos.left,right=pos.right,hspace=0.00,wspace=0.03)\n",
      "ax=fig.add_subplot(111)\n",
      "\n",
      "text_size=inverse_latex_scale*12  # find out the fontsize of your latex text, and put it here\n",
      "tick_size=inverse_latex_scale*8\n",
      "# learn how to configure: http://matplotlib.sourceforge.net/users/customizing.html\n",
      "params = {'backend': 'ps',\n",
      "          'axes.labelsize': text_size,\n",
      "          #'axes.linewidth' : 0,\n",
      "          'text.fontsize': text_size,\n",
      "          'legend.fontsize': text_size,\n",
      "          'legend.handlelength': 2.5,\n",
      "          'legend.borderaxespad': 0,\n",
      "          'xtick.labelsize': tick_size,\n",
      "          'ytick.labelsize': tick_size,\n",
      "          'font.family':'serif',\n",
      "          'font.size': text_size,\n",
      "          'font.serif':['Times'], # Times, Palatino, New Century Schoolbook, Bookman, Computer Modern Roman\n",
      "          'ps.usedistiller': 'xpdf',\n",
      "          #'text.latex.preamble' : [ '\\usepackage{mathptmx}'], # include here any neede package for latex; times roman fonts for math\n",
      "          #'mathtext.fontset': 'stixsans',\n",
      "          'text.usetex': True,\n",
      "          'figure.figsize': fig_size}\n",
      "plt.rcParams.update(params)\n",
      "\n",
      "plt.hold('on')"
     ],
     "language": "python",
     "metadata": {},
     "outputs": [
      {
       "metadata": {},
       "output_type": "display_data",
       "png": "[encoded data removed]",
       "text": [
        "<matplotlib.figure.Figure at 0x374ef90>"
       ]
      }
     ],
     "prompt_number": 2
    },
    {
     "cell_type": "code",
     "collapsed": false,
     "input": [
      "# define functions\n",
      "\n",
      "def beta_func(a, b):\n",
      "    e1 = scipy.special.gamma(a)\n",
      "    e2 = scipy.special.gamma(b)\n",
      "    e3 = scipy.special.gamma(a + b)\n",
      "    return (e1*e2)/e3\n",
      "\n",
      "beta_dist = lambda x,a,b: (1.0/beta_func(a,b)) * x**(a-1.0) * (1-x)**(b-1.0)"
     ],
     "language": "python",
     "metadata": {},
     "outputs": [],
     "prompt_number": 3
    },
    {
     "cell_type": "heading",
     "level": 2,
     "metadata": {},
     "source": [
      "plot on the top"
     ]
    },
    {
     "cell_type": "code",
     "collapsed": false,
     "input": [
      "x = numpy.linspace(0,1,101)\n",
      "Gamma = numpy.linspace(0,3.9,101) \n",
      "ax.plot(Gamma,numpy.ones(len(Gamma)),color='black',ls='-',lw=2)\n",
      "ax.plot(Gamma,Gamma+1,color='black',ls='--',lw=2)\n",
      "\n",
      "ax.set_xlabel(r\"$\\gamma/c$\")\n",
      "ax.set_ylabel(r\"$\\lambda/b$\")\n",
      "\n",
      "pos.x_min = -0.2\n",
      "pos.x_max = 4.30\n",
      "pos.y_min = 0.0\n",
      "pos.y_max = 4.0\n",
      "ax.axis([pos.x_min,pos.x_max,pos.y_min,pos.y_max])\n",
      "\n",
      "ax.text(4.0,3.68,r'(a)',fontsize=text_size)\n",
      "\n",
      "ax.set_xticks(numpy.arange(0,4.5,0.5))\n",
      "ax.set_yticks(numpy.arange(0,4.5,0.5))\n",
      "\n",
      "val = [(3.0,1.5),(0.5,1.5),(0.5,2.5)]\n",
      "\n",
      "colormap = plt.cm.YlOrRd\n",
      "colors = [colormap(i) for i in numpy.linspace(0.9, 0.3, 3)]\n",
      "\n",
      "# complicated algorithm to place each tiny graph in the right place\n",
      "def insert_window(ax,pos,pair,x,special=-1):\n",
      "    size = 0.25\n",
      "    ax2size = (size/(pos.x_max-pos.x_min)) * (pos.right-pos.left)\n",
      "    pos_x_window = ((pair[0]-pos.x_min)/(pos.x_max-pos.x_min)) * (pos.right-pos.left) + pos.left - ax2size/2.0\n",
      "    pos_y_window = ((pair[1]-pos.y_min)/(pos.y_max-pos.y_min)) * (pos.top-pos.bottom) + pos.bottom - ax2size/fig_ratio/2.0\n",
      "    ax2 = fig.add_axes([pos_x_window, pos_y_window, ax2size, ax2size/fig_ratio],frameon=False)\n",
      "    curve = beta_dist(x,pair[0]+1.0, pair[1])\n",
      "    ax2.axis([0,1,0,2.5])\n",
      "    if special<0.0:   # regular plot in blue\n",
      "        ax2.fill_between(x, curve, y2=0, edgecolor='None', color='blue')\n",
      "    else:             # special plot not in blue\n",
      "        ax2.fill_between(x, curve, y2=0, edgecolor='None', color=colors[special])\n",
      "    ax2.set_xticks([])\n",
      "    ax2.set_yticks([])\n",
      "\n",
      "pos.pt_x = 1.0\n",
      "pos.pt_y = 1.0\n",
      "\n",
      "pairs = []\n",
      "\n",
      "for gam in numpy.append([0.0],numpy.arange(0.5,4.5,0.5)):\n",
      "    for lam in numpy.arange(1.0,4.0,0.5):\n",
      "        if gam==val[0][0] and lam==val[0][1]  or  gam==val[1][0] and lam==val[1][1]  or  gam==val[2][0] and lam==val[2][1]:\n",
      "            pass\n",
      "        else:\n",
      "            pairs.append((gam,lam))\n",
      "\n",
      "# draw all little distributions (not bottom row)\n",
      "for i,pair in enumerate(pairs):\n",
      "    insert_window(ax,pos,(pair[0],pair[1]),x)\n",
      "# draw the three distributions with different colors\n",
      "for i,pair in enumerate(val):\n",
      "    insert_window(ax,pos,(pair[0],pair[1]),x,i)\n",
      "# draw bottom row of little distributions\n",
      "for pair_x in numpy.arange(0.5,4.5,0.5):\n",
      "    insert_window(ax,pos,(pair_x,0.5),x)\n",
      "\n",
      "ax.grid(True)\n",
      "\n",
      "fig"
     ],
     "language": "python",
     "metadata": {},
     "outputs": [
      {
       "output_type": "stream",
       "stream": "stderr",
       "text": [
        "-c:9: RuntimeWarning: divide by zero encountered in power\n"
       ]
      }
     ],
     "prompt_number": 4
    },
    {
     "cell_type": "heading",
     "level": 2,
     "metadata": {},
     "source": [
      "plot on the bottom"
     ]
    },
    {
     "cell_type": "code",
     "collapsed": false,
     "input": [
      "wspace = 0.05\n",
      "rspace = 0.02\n",
      "\n",
      "x = numpy.linspace(0,1,201)\n",
      "\n",
      "ax_bottom = fig.add_axes([pos.left, 0.06, (pos.right-pos.left), 0.36])\n",
      "\n",
      "mode = lambda gam,lam: gam / (gam+lam-1.0)\n",
      "mean = lambda gam,lam: (gam+1.0)/(gam+lam+1.0)\n",
      "\n",
      "maximum=0.0\n",
      "for i,v in enumerate(val):\n",
      "    curve = beta_dist(x, v[0]+1.0, v[1])\n",
      "    maximum=numpy.max([maximum,numpy.max(curve)])\n",
      "    ax_bottom.plot(x, curve, color=colors[i], lw=2)\n",
      "\n",
      "g = val[0][0]\n",
      "l = val[0][1]\n",
      "ax_bottom.plot([mode(g,l),mode(g,l)],[0,beta_dist(mode(g,l),g+1.0, l)], color=colors[0], lw=2,ls='--')\n",
      "ax_bottom.plot([mean(g,l),mean(g,l)],[0,beta_dist(mean(g,l),g+1.0, l)], color=colors[0], lw=2,ls=':')\n",
      "\n",
      "ax_bottom.axis([-0.05,1.05*1,0,1.3*maximum])\n",
      "ax_bottom.set_xticks([0.0,1.0,mode(g,l),mean(g,l)])\n",
      "ax_bottom.set_xticklabels([r'$0$', r'$a/b$','mode',r'$\\langle x\\rangle$'],fontsize=tick_size)\n",
      "ax_bottom.set_yticks([])\n",
      "ax_bottom.set_xlabel(r\"$x$\",labelpad=-2)\n",
      "ax_bottom.set_ylabel(r\"$p_x(x)$\")#,labelpad=3)\n",
      "ax_bottom.legend([r'$\\gamma/c={0:.1f},\\,\\, \\lambda/b={1:.1f}$'.format(val[0][0],val[0][1]),\n",
      "                  r'$\\gamma/c={0:.1f},\\,\\, \\lambda/b={1:.1f}$'.format(val[1][0],val[1][1]),\n",
      "                  r'$\\gamma/c={0:.1f},\\,\\, \\lambda/b={1:.1f}$'.format(val[2][0],val[2][1]) ]\n",
      "                  ,fontsize=tick_size,loc='upper left',frameon=False)\n",
      "ax_bottom.text(0.97,2.65,r'(b)',fontsize=text_size)\n",
      "\n",
      "fig"
     ],
     "language": "python",
     "metadata": {},
     "outputs": [
      {
       "metadata": {},
       "output_type": "pyout",
       "prompt_number": 5,
       "text": [
        "<matplotlib.text.Text at 0x69097d0>"
       ]
      }
     ],
     "prompt_number": 5
    },
    {
     "cell_type": "code",
     "collapsed": false,
     "input": [
      "# save figure\n",
      "fig.savefig(\"beta_modified.png\",dpi=300)\n",
      "fig.savefig(\"beta_modified.eps\")"
     ],
     "language": "python",
     "metadata": {},
     "outputs": [],
     "prompt_number": 6
    }
   ],
   "metadata": {}
  }
 ]
}