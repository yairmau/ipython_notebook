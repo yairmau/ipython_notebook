{
 "metadata": {
  "name": ""
 },
 "nbformat": 3,
 "nbformat_minor": 0,
 "worksheets": [
  {
   "cells": [
    {
     "cell_type": "heading",
     "level": 2,
     "metadata": {},
     "source": [
      "import stuff"
     ]
    },
    {
     "cell_type": "code",
     "collapsed": false,
     "input": [
      "import numpy as np\n",
      "import matplotlib.pyplot as plt\n",
      "import matplotlib\n",
      "from IPython.display import Math\n",
      "%matplotlib inline"
     ],
     "language": "python",
     "metadata": {},
     "outputs": [],
     "prompt_number": 10
    },
    {
     "cell_type": "code",
     "collapsed": false,
     "input": [
      "plt.clf()\n",
      "# http://wiki.scipy.org/Cookbook/Matplotlib/LaTeX_Examples\n",
      "pts_per_inch=72.27       # this is a latex constant, don't change it.\n",
      "text_width_in_pts=246.0  # write \"\\the\\textwidth\" (or \"\\showthe\\columnwidth\" for a 2 collumn text)\n",
      "                         # inside a figure environment in latex, the result will be on the dvi/pdf next to the figure. See url above.\n",
      "text_width_in_inches=text_width_in_pts/pts_per_inch\n",
      "golden_ratio=0.618       # make rectangles with a nice proportion\n",
      "inverse_latex_scale=2    # figure.png or figure.eps will be intentionally larger, because it is prettier\n",
      "                         # when compiling latex code, use \\includegraphics[scale=(1/inverse_latex_scale)]{figure}\n",
      "fig_proportion = (3.0/3.0) # we want the figure to occupy 2/3 (for example) of the text width\n",
      "csize=inverse_latex_scale*fig_proportion*text_width_in_inches\n",
      "fig_size=(1.0*csize,golden_ratio*csize)  # always 1.0 on the first argument\n",
      "fig=plt.figure(1,figsize=fig_size)     # figsize accepts only inches. if you rather think in cm, change the code yourself.\n",
      "fig.clf()\n",
      "fig.subplots_adjust(left=0.12, right=0.96,top=0.98, bottom=0.18,hspace=0.00,wspace=0.03)\n",
      "ax=fig.add_subplot(111)\n",
      "\n",
      "text_size=inverse_latex_scale*12  # find out the fontsize of your latex text, and put it here\n",
      "tick_size=inverse_latex_scale*8\n",
      "# learn how to configure: http://matplotlib.sourceforge.net/users/customizing.html\n",
      "params = {'backend': 'ps',\n",
      "          'axes.labelsize': text_size,\n",
      "          #'axes.linewidth' : 0,\n",
      "          'text.fontsize': text_size,\n",
      "          'legend.fontsize': tick_size,\n",
      "          'legend.handlelength': 1.5,\n",
      "          'legend.borderaxespad': 0,\n",
      "          'xtick.labelsize': tick_size,\n",
      "          'ytick.labelsize': tick_size,\n",
      "          'font.family':'serif',\n",
      "          'font.size': text_size,\n",
      "          'font.serif':['Times'], # Times, Palatino, New Century Schoolbook, Bookman, Computer Modern Roman\n",
      "          'ps.usedistiller': 'xpdf',\n",
      "          'text.usetex': True,\n",
      "          'figure.figsize': fig_size}\n",
      "plt.rcParams.update(params)\n",
      "\n",
      "plt.hold('on')\n",
      "plt.ion()"
     ],
     "language": "python",
     "metadata": {},
     "outputs": [
      {
       "metadata": {},
       "output_type": "display_data",
       "png": "[encoded data removed]",
       "text": [
        "<matplotlib.figure.Figure at 0x33a3890>"
       ]
      }
     ],
     "prompt_number": 18
    },
    {
     "cell_type": "heading",
     "level": 2,
     "metadata": {},
     "source": [
      "the program"
     ]
    },
    {
     "cell_type": "code",
     "collapsed": false,
     "input": [
      "def texturize(region, axes, texture,ecolor):\n",
      "    from matplotlib.patches import PathPatch\n",
      "    #p.set_facecolors(\"none\")\n",
      "    for path in region.get_paths():\n",
      "        p1 = PathPatch(path, fc=\"none\",ec=ecolor, hatch=texture)\n",
      "        axes.add_patch(p1)\n",
      "        p1.set_zorder(p.get_zorder()-0.0)\n",
      "\n",
      "u = np.arange(-2,2,0.01)\n",
      "delta = np.arange(-0,16,0.01)\n",
      "a0 = 0\n",
      "a1 = 0.5\n",
      "\n",
      "eps_T = delta / (2 - a1 + 2*np.sqrt(1-a1))\n",
      "eps_H = delta*0 + 1.0/a1\n",
      "\n",
      "#ax=pylab.subplot(111)\n",
      "ax.spines['left'].set_position('zero')\n",
      "ax.spines['right'].set_color('none')\n",
      "ax.spines['bottom'].set_position('zero')\n",
      "ax.spines['top'].set_color('none')\n",
      "ax.xaxis.set_ticks_position('bottom')\n",
      "ax.yaxis.set_ticks_position('left')\n",
      "\n",
      "c = \"red\"\n",
      "ax.plot(delta,eps_T,color=c)\n",
      "p = ax.fill_between(delta, eps_T,y2=0, facecolor='red', alpha=0.0)\n",
      "texturize(p, ax, \"\\\\\",c)\n",
      "c = \"green\"\n",
      "ax.plot(delta,eps_H,color=c)\n",
      "q = ax.fill_between(delta, eps_H,y2=0, facecolor='green', alpha=0.2)\n",
      "texturize(q, ax, None,c)\n",
      "\n",
      "ax.axis([-1.4,15,-0.5,3])\n",
      "ax.text(14.5,-0.25,r'$\\delta$',fontsize=22)\n",
      "ax.text(0.3,2.8,r'$\\epsilon$',fontsize=22)\n",
      "ax.set_xticks([(2-a1+2*np.sqrt(1-a1))/a1],[r'$\\delta_{c2p}$'])\n",
      "ax.set_yticks([1/a1],[r'$1/a_1$'])\n",
      "ax.legend([r'$\\epsilon_T=\\frac{\\delta}{2-a_1+2\\sqrt{1+a_1}}$',r'$\\epsilon_H=1/a_1$'], loc=\"center right\")\n",
      "ax.yaxis.tickspad = -100\n",
      "\n",
      "fig"
     ],
     "language": "python",
     "metadata": {},
     "outputs": [
      {
       "metadata": {},
       "output_type": "pyout",
       "png": "[encoded data removed]",
       "prompt_number": 21,
       "text": [
        "<matplotlib.figure.Figure at 0x33a3890>"
       ]
      }
     ],
     "prompt_number": 21
    },
    {
     "cell_type": "code",
     "collapsed": false,
     "input": [
      "# save figure\n",
      "fig.savefig(\"textures.png\",dpi=300)#,bbox_inches='tight')\n",
      "fig.savefig(\"textures.eps\")#,bbox_inches='tight') # textures don't work with eps"
     ],
     "language": "python",
     "metadata": {},
     "outputs": [],
     "prompt_number": 13
    }
   ],
   "metadata": {}
  }
 ]
}