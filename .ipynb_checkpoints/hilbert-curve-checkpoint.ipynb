{
 "metadata": {
  "name": ""
 },
 "nbformat": 3,
 "nbformat_minor": 0,
 "worksheets": [
  {
   "cells": [
    {
     "cell_type": "code",
     "collapsed": false,
     "input": [
      "# comment this to enable interactive mode\n",
      "import matplotlib\n",
      "matplotlib.use('AGG')"
     ],
     "language": "python",
     "metadata": {},
     "outputs": [],
     "prompt_number": 1
    },
    {
     "cell_type": "code",
     "collapsed": false,
     "input": [
      "import numpy as np\n",
      "import matplotlib.pyplot as plt\n",
      "import os"
     ],
     "language": "python",
     "metadata": {},
     "outputs": [],
     "prompt_number": 2
    },
    {
     "cell_type": "code",
     "collapsed": false,
     "input": [
      "def apply_rules(s):\n",
      "    \"\"\" Hilbert Curve as a Lindenmayer system (L-system)\n",
      "    https://en.wikipedia.org/wiki/Hilbert_curve#Representation_as_Lindenmayer_system\"\"\"\n",
      "    s=s.replace(\"a\",\"-Bf+AfA+fB-\")\n",
      "    s=s.replace(\"b\",\"+Af-BfB-fA+\")\n",
      "    return s.lower()\n",
      "\n",
      "axiom = \"a\"\n",
      "n=3 # number of iterations\n",
      "# displacements, ordered in a counter-clockwise direction\n",
      "dxdy = np.array([[ 1, 0],\n",
      "                 [ 0, 1],\n",
      "                 [-1, 0],\n",
      "                 [ 0,-1] ])\n",
      "length = 2**n-1; margin = 0.05*length\n",
      "domain = [0-margin,length+margin,0-margin,length+margin]\n",
      "s = axiom # string to iterate upon\n",
      "\n",
      "for i in np.arange(n):\n",
      "    s = apply_rules(s)"
     ],
     "language": "python",
     "metadata": {},
     "outputs": [],
     "prompt_number": 3
    },
    {
     "cell_type": "code",
     "collapsed": false,
     "input": [
      "make_movie=True\n",
      "plt.ion() # interactive mode disabled if \"matplotlib.use('AGG')\"\n",
      "fig = plt.figure(figsize=(6,6))\n",
      "ax = fig.add_subplot(111)\n",
      "ax.axis('off') # no frame\n",
      "ax.axis(domain)\n",
      "ax.set_aspect('equal') # square look\n",
      "ax.set_xticks([]); ax.set_yticks([])\n",
      "ax.set_title(r\"$n = {:d}$\".format(n))\n",
      "plt.show()\n",
      "\n",
      "# \"a\" and \"b\" can be erased now\n",
      "s=s.replace(\"a\",\"\")\n",
      "s=s.replace(\"b\",\"\")\n",
      "\n",
      "frame_names = []\n",
      "frame_counter=0\n",
      "\n",
      "p = np.array([[0.0,0.0]]) # this is the starting point (0,0)\n",
      "p_plot, = plt.plot(p[:,0],p[:,1],color=\"black\")\n",
      "\n",
      "# iterate on the string s\n",
      "for i,c in enumerate(s):\n",
      "    # uncomment to see how fast things are going\n",
      "    # print(\"{:d}/{:d}\".format(i,len(s)))\n",
      "    \n",
      "    # rotations \"+\" and \"-\" change the displacement array dxdy\n",
      "    # \"+\" means clockwise rotation\n",
      "    if c == '+': dxdy = np.roll(dxdy,+1,axis=0)\n",
      "    # \"-\" means counter-clockwise rotation\n",
      "    if c == '-': dxdy = np.roll(dxdy,-1,axis=0)\n",
      "    # forward \"f\"\n",
      "    if c == 'f':\n",
      "        # add one more point to array p\n",
      "        p = np.vstack([p, [p[-1,0]+dxdy[0,0],p[-1,1]+dxdy[0,1]] ])\n",
      "        # update p_plot data, this is MUCH faster that plotting\n",
      "        # several line segments separately\n",
      "        p_plot.set_data(p[:,0],p[:,1])\n",
      "        fig.canvas.draw()\n",
      "        if make_movie:\n",
      "            fname = \"_tmp{:05d}.png\".format(frame_counter)\n",
      "            frame_names.append(fname)\n",
      "            fig.savefig(fname,bbox_inches='tight',resolution=300)\n",
      "        frame_counter += 1"
     ],
     "language": "python",
     "metadata": {},
     "outputs": [],
     "prompt_number": 4
    },
    {
     "cell_type": "code",
     "collapsed": false,
     "input": [
      "if make_movie:\n",
      "    frames = \"_tmp%5d.png\"\n",
      "    movie_command = \"mencoder mf://*.png -mf fps=24:type=png --ovc lavc -lavcopts vcodec=mpeg4:mbd=2:trell -oac copy -o hil{:d}.avi\".format(n)\n",
      "    \n",
      "    # we might have other .png figures in the directory\n",
      "    # in this case, use the code below\n",
      "    f = open(\"png_list.txt\", \"w\")\n",
      "    for i in frame_names:\n",
      "        f.write(i+\"\\n\")\n",
      "    f.close()\n",
      "    movie_command = \"mencoder mf://@png_list.txt -mf fps=24:type=png -ovc lavc -lavcopts vcodec=mpeg4:mbd=2:trell -oac copy -o hil{:d}.avi\".format(n)\n",
      "    \n",
      "    err=os.system(movie_command)\n",
      "    if err!=0:\n",
      "        raise RuntimeError(\"Couldn't run mencoder.  Data in tmp*.png files\")\n",
      "    for fname in frame_names:\n",
      "        os.remove(fname)\n",
      "    \n",
      "    # we now have one video ready.\n",
      "    # if you want to join several videos, use this:\n",
      "    # sudo apt-get install gpac\n",
      "    # MP4Box -cat part1.avi -cat part2.avi -new joinedfile.avi"
     ],
     "language": "python",
     "metadata": {},
     "outputs": [],
     "prompt_number": 5
    }
   ],
   "metadata": {}
  }
 ]
}