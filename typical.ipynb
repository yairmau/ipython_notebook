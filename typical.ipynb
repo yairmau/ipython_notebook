{
 "metadata": {
  "name": ""
 },
 "nbformat": 3,
 "nbformat_minor": 0,
 "worksheets": [
  {
   "cells": [
    {
     "cell_type": "markdown",
     "metadata": {},
     "source": [
      "What is it all about? Solving the Stochastic Differential equation\n",
      "$$\\frac{dx}{dt} = 1 - x - x\\ \\xi(t),$$\n",
      "where the stochastic term\n",
      "$$\\xi(t) = \\sum_i^{N(t)} h_i \\delta(t-t_i),$$\n",
      "and $N$ is a Poisson counting process with mean frequency $\\lambda$, and the random heights $h_i$ are chosen to be drawn from the distribution\n",
      "$\\rho(h) = \\gamma e^{-\\gamma h}$"
     ]
    },
    {
     "cell_type": "code",
     "collapsed": false,
     "input": [
      "# import stuff\n",
      "import numpy\n",
      "import matplotlib.pyplot as plt\n",
      "#import warnings\n",
      "import scipy.special\n",
      "from IPython.display import Math\n",
      "import random\n",
      "#import colorsys\n",
      "%matplotlib inline\n"
     ],
     "language": "python",
     "metadata": {},
     "outputs": [],
     "prompt_number": "*"
    },
    {
     "cell_type": "heading",
     "level": 2,
     "metadata": {},
     "source": [
      "configure plotting preferences"
     ]
    },
    {
     "cell_type": "code",
     "collapsed": false,
     "input": [
      "# http://wiki.scipy.org/Cookbook/Matplotlib/LaTeX_Examples\n",
      "pts_per_inch=72.27       # this is a latex constant, don't change it.\n",
      "text_width_in_pts=246.0  # write \"\\the\\textwidth\" (or \"\\showthe\\columnwidth\" for a 2 collumn text)\n",
      "                         # inside a figure environment in latex, the result will be on the dvi/pdf next to the figure. See url above.\n",
      "text_width_in_inches=text_width_in_pts/pts_per_inch\n",
      "golden_ratio=0.618       # make rectangles with a nice proportion\n",
      "inverse_latex_scale=2    # figure.png or figure.eps will be intentionally larger, because it is prettier\n",
      "                         # when compiling latex code, use \\includegraphics[scale=(1/inverse_latex_scale)]{figure}\n",
      "fig_proportion = (3.0/3.0) # we want the figure to occupy 2/3 (for example) of the text width\n",
      "csize=inverse_latex_scale*fig_proportion*text_width_in_inches\n",
      "fig_size=(1.0*csize,golden_ratio*csize)  # always 1.0 on the first argument\n",
      "fig=plt.figure(1,figsize=fig_size)     # figsize accepts only inches. if you rather think in cm, change the code yourself.\n",
      "fig.clf()\n",
      "fig.subplots_adjust(left=0.12, right=0.97,top=0.98, bottom=0.13,hspace=0.00,wspace=0.03)\n",
      "ax=fig.add_subplot(111)\n",
      "\n",
      "text_size=inverse_latex_scale*12  # find out the fontsize of your latex text, and put it here\n",
      "tick_size=inverse_latex_scale*8\n",
      "# learn how to configure: http://matplotlib.sourceforge.net/users/customizing.html\n",
      "params = {'backend': 'ps',\n",
      "          'axes.labelsize': text_size,\n",
      "          #'axes.linewidth' : 0,\n",
      "          'text.fontsize': text_size,\n",
      "          'legend.fontsize': text_size,\n",
      "          'legend.handlelength': 2.5,\n",
      "          'legend.borderaxespad': 0,\n",
      "          'xtick.labelsize': tick_size,\n",
      "          'ytick.labelsize': tick_size,\n",
      "          'font.family':'serif',\n",
      "          'font.size': text_size,\n",
      "          'font.serif':['Times'], # Times, Palatino, New Century Schoolbook, Bookman, Computer Modern Roman\n",
      "          'ps.usedistiller': 'xpdf',\n",
      "          'text.usetex': True,\n",
      "          'figure.figsize': fig_size}\n",
      "plt.rcParams.update(params)\n",
      "\n",
      "plt.hold('on')\n",
      "plt.ion()"
     ],
     "language": "python",
     "metadata": {},
     "outputs": [],
     "prompt_number": "*"
    },
    {
     "cell_type": "code",
     "collapsed": false,
     "input": [
      "# define functions\n",
      "\n",
      "# deterministic dynamics\n",
      "f = lambda x: 1.0 - x\n",
      "\n",
      "class Parameters:\n",
      "    pass\n",
      "par = Parameters()\n",
      "par.Lambda = 1.5\n",
      "par.Gamma = 2.0\n",
      "par.dt = 0.001\n",
      "par.c1 = (par.Gamma+par.Lambda+1.0)/(par.Gamma+1.0)\n",
      "\n",
      "def poisson_event(par):\n",
      "    \"\"\" returns True if there is an event in dt, else False \"\"\"\n",
      "    return numpy.random.random(1)[0] < par.Lambda*par.dt\n",
      "\n",
      "def calculate_trajectory():\n",
      "    t = 0.0\n",
      "    x_init = 1.5 * numpy.random.random()\n",
      "    x = [[t,x_init]]\n",
      "    while t<10.0:\n",
      "        t+=par.dt\n",
      "        if poisson_event(par):\n",
      "            # if there is an event, go back dt, so that the line is vertical\n",
      "            t-=par.dt\n",
      "            # draw a random number from exponential dist.\n",
      "            xi = random.expovariate(par.Gamma)\n",
      "            # calculate the jump size\n",
      "            x.append([t, x[-1][1] + x[-1][1]*(numpy.exp(-xi)-1.0)])\n",
      "        else:\n",
      "            # euler step when dynamics is deterministic\n",
      "            x.append([ t, x[-1][1] + par.dt*( f(x[-1][1]) ) ])\n",
      "    return x\n",
      "\n",
      "def draw_trajectory(x,c):\n",
      "    ax.plot(x[:,0],x[:,1], lw=2,color=c)"
     ],
     "language": "python",
     "metadata": {},
     "outputs": [],
     "prompt_number": "*"
    },
    {
     "cell_type": "code",
     "collapsed": false,
     "input": [
      "n_plots = 3\n",
      "colormap = plt.cm.Blues\n",
      "colors = [colormap(i) for i in numpy.linspace(0.5, 0.9, n_plots)]\n",
      "for i in range(n_plots):\n",
      "    x = numpy.array( calculate_trajectory() )\n",
      "    draw_trajectory(x,colors[i])\n",
      "\n",
      "ax.axis([x[0,0],x[-1,0],0,1.5])\n",
      "ax.plot([x[0,0],x[-1,0]],[1,1],color='black',ls='--')\n",
      "ax.set_xlabel(r'$t$')\n",
      "ax.set_ylabel(r'$x$',rotation='horizontal',labelpad=10)\n",
      "ax.set_yticks([0,1.0],[r'$0$',r'$\\frac{a}{b}$'])\n",
      "fig"
     ],
     "language": "python",
     "metadata": {},
     "outputs": [],
     "prompt_number": "*"
    },
    {
     "cell_type": "code",
     "collapsed": false,
     "input": [
      "# save figure\n",
      "fig.savefig(\"typical.png\",dpi=300)\n",
      "fig.savefig(\"typical.eps\")"
     ],
     "language": "python",
     "metadata": {},
     "outputs": [],
     "prompt_number": "*"
    }
   ],
   "metadata": {}
  }
 ]
}